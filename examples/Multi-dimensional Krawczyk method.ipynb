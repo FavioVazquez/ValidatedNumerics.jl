{
 "cells": [
  {
   "cell_type": "markdown",
   "metadata": {},
   "source": [
    "# Multi-dimensional Krawczyk method "
   ]
  },
  {
   "cell_type": "markdown",
   "metadata": {},
   "source": [
    "The multi-dimensional Krawczyk method is as follows; cf. Moore, pg. 116.\n",
    "\n",
    "Consider a function $\\mathbf{f}: \\mathbb{R}^n \\to \\mathbb{R}^n$, with domain $U$ and interval extension $\\mathbf{F}$. Let $\\mathbf{X} \\subseteq U$ be an interval vector in the domain. Let $D\\mathbf{F}$ be an interval extension of the derivative function $D\\mathbf{f}$.\n",
    "\n",
    "Let $\\mathbf{m} := m(\\mathbf{X})$ be the midpoint vector of $\\mathbf{X}$, i.e. the vector of midpoints of\n",
    "the constituent intervals of $\\mathbf{X}$. ($\\mathbf{m}$ may also be any other vector (strictly?) inside $\\mathbf{X}$?)\n",
    "\n",
    "Let $\\mathsf{Y}$ be a nonsingular matrix that approximates $[D\\mathbf{f}(\\mathbf{m})]^{-1}$ (a \"preconditioner\").\n",
    "Let $\\mathbf{y}$ be a vector contained in the interval vector \n",
    "$\\mathbf{X}$, for example its midpoint. \n",
    "\n",
    "Define the operator $K(\\mathbf{X})$ by\n",
    "\n",
    "$$K(\\mathbf{X}) := \\mathbf{y} − \\mathsf{Y} \\cdot \\mathbf{f}(\\mathbf{y})+{\\mathsf{I} − \\mathsf{Y} \\cdot DF(\\mathbf{X})} \\cdot (\\mathbf{X}−\\mathbf{y}).$$\n",
    "\n",
    "If $K(\\mathbf{X}) \\subseteq \\mathbf{X}$, then there exists a solution $\\mathbf{x}^\\ast \\in \\mathbf{X}$ of $\\mathbf{f}(\\mathbf{x^\\ast}) = \\mathbf{0}$, which furthermore is unique."
   ]
  },
  {
   "cell_type": "code",
   "execution_count": null,
   "metadata": {
    "collapsed": true
   },
   "outputs": [],
   "source": []
  }
 ],
 "metadata": {
  "kernelspec": {
   "display_name": "Julia 0.3.11-pre",
   "language": "julia",
   "name": "julia-0.3"
  },
  "language_info": {
   "name": "julia",
   "version": "0.3.11"
  }
 },
 "nbformat": 4,
 "nbformat_minor": 0
}
