{
 "cells": [
  {
   "cell_type": "markdown",
   "metadata": {},
   "source": [
    "# Rigorous enclosures of ODEs "
   ]
  },
  {
   "cell_type": "markdown",
   "metadata": {},
   "source": [
    "Consider the ODE\n",
    "\n",
    "$$ \\dot{y} = f(y) = y^2$$"
   ]
  },
  {
   "cell_type": "code",
   "execution_count": 1,
   "metadata": {
    "collapsed": false
   },
   "outputs": [
    {
     "name": "stderr",
     "output_type": "stream",
     "text": [
      "INFO: Recompiling stale cache file /Users/dsanders/.julia/lib/v0.4/ValidatedNumerics.ji for module ValidatedNumerics.\n"
     ]
    }
   ],
   "source": [
    "using ValidatedNumerics"
   ]
  },
  {
   "cell_type": "code",
   "execution_count": 45,
   "metadata": {
    "collapsed": false
   },
   "outputs": [
    {
     "data": {
      "text/plain": [
       "f (generic function with 1 method)"
      ]
     },
     "execution_count": 45,
     "metadata": {},
     "output_type": "execute_result"
    }
   ],
   "source": [
    "f(y) = y^2"
   ]
  },
  {
   "cell_type": "markdown",
   "metadata": {},
   "source": [
    "Initial condition $y(t=0) = y_0$:"
   ]
  },
  {
   "cell_type": "code",
   "execution_count": 46,
   "metadata": {
    "collapsed": false
   },
   "outputs": [
    {
     "data": {
      "text/plain": [
       "[1.0, 1.0]"
      ]
     },
     "execution_count": 46,
     "metadata": {},
     "output_type": "execute_result"
    }
   ],
   "source": [
    "y0 = @interval(1)"
   ]
  },
  {
   "cell_type": "markdown",
   "metadata": {},
   "source": [
    "Fix an interval $[A]$ containing $y_0$. We will think of flowing for a time $h$ such that $y(h)$ is guaranteed to remain inside the box $A$."
   ]
  },
  {
   "cell_type": "code",
   "execution_count": 70,
   "metadata": {
    "collapsed": false
   },
   "outputs": [
    {
     "data": {
      "text/plain": [
       "true"
      ]
     },
     "execution_count": 70,
     "metadata": {},
     "output_type": "execute_result"
    }
   ],
   "source": [
    "A = 0.5..10\n",
    "y0 ⊆ A"
   ]
  },
  {
   "cell_type": "markdown",
   "metadata": {},
   "source": [
    "Suppose we are able to bound $\\dot{y}$ for all times $t \\in [0,h]$ such that $m \\le \\dot{y}(t) \\le M$. Then we have\n",
    "\n",
    "$$y_0 + m \\, h \\le y(t) \\le y_0 + M \\, h$$\n",
    "\n",
    "for all $t \\in [0,h]$.\n",
    "\n",
    "In terms of intervals, if $\\dot{y} \\in [B]:=[m,M]$ then $y(t) \\in y_0 + h[B]$"
   ]
  },
  {
   "cell_type": "markdown",
   "metadata": {},
   "source": [
    "Since $\\dot{y}(t) = f(y(t))$, we can obtain such a bound using interval arithmetic: if $y(t)$ is guaranteed to remain inside $A$, then $\\dot{y}(t) \\in F([A])$, where $F$ is an interval extension of $F$.\n",
    "\n",
    "So take $[B] := F([A])$ and then fix $h$ such that $y_0 + h F([A]) \\subseteq [A]$:"
   ]
  },
  {
   "cell_type": "code",
   "execution_count": 71,
   "metadata": {
    "collapsed": false
   },
   "outputs": [
    {
     "data": {
      "text/plain": [
       "[1.2499999999999998, 101.00000000000001]"
      ]
     },
     "execution_count": 71,
     "metadata": {},
     "output_type": "execute_result"
    }
   ],
   "source": [
    "h = @interval(1)  # initial guess for $h$\n",
    "\n",
    "y0 + h*f(A)"
   ]
  },
  {
   "cell_type": "code",
   "execution_count": 72,
   "metadata": {
    "collapsed": false
   },
   "outputs": [
    {
     "data": {
      "text/plain": [
       "false"
      ]
     },
     "execution_count": 72,
     "metadata": {},
     "output_type": "execute_result"
    }
   ],
   "source": [
    "y0 + h*f(A) ⊆ A"
   ]
  },
  {
   "cell_type": "markdown",
   "metadata": {},
   "source": [
    "Reduce $h$ until the inclusion is satisfied:"
   ]
  },
  {
   "cell_type": "code",
   "execution_count": 73,
   "metadata": {
    "collapsed": true
   },
   "outputs": [],
   "source": [
    "while !(y0 + h*f(A) ⊆ A)\n",
    "    h /= 2\n",
    "end"
   ]
  },
  {
   "cell_type": "code",
   "execution_count": 74,
   "metadata": {
    "collapsed": false
   },
   "outputs": [
    {
     "data": {
      "text/plain": [
       "[0.0625, 0.0625]"
      ]
     },
     "execution_count": 74,
     "metadata": {},
     "output_type": "execute_result"
    }
   ],
   "source": [
    "h"
   ]
  },
  {
   "cell_type": "markdown",
   "metadata": {},
   "source": [
    "We now have a guaranteed inclusion for $\\tilde{A}(t)$ for $y(t)$, for all $t \\in [0,h]$:"
   ]
  },
  {
   "cell_type": "code",
   "execution_count": 75,
   "metadata": {
    "collapsed": false
   },
   "outputs": [
    {
     "data": {
      "text/plain": [
       "Ã (generic function with 1 method)"
      ]
     },
     "execution_count": 75,
     "metadata": {},
     "output_type": "execute_result"
    }
   ],
   "source": [
    "Ã(t) = y0 + t*f(A)  # solution y(t) at *any* time t ∈ [0,h] is guaranteed to be inside this set? NO"
   ]
  },
  {
   "cell_type": "code",
   "execution_count": 76,
   "metadata": {
    "collapsed": false
   },
   "outputs": [
    {
     "data": {
      "text/plain": [
       "[1.0156249999999998, 7.250000000000001]"
      ]
     },
     "execution_count": 76,
     "metadata": {},
     "output_type": "execute_result"
    }
   ],
   "source": [
    "Ã(h)"
   ]
  },
  {
   "cell_type": "markdown",
   "metadata": {},
   "source": [
    "Note that $F([A])$ gives an estimation of the Lipschitz constant of the function $y$ over the set $[A]$."
   ]
  },
  {
   "cell_type": "markdown",
   "metadata": {},
   "source": [
    "Note that $\\tilde{A}(t)$ gives a cone as a function of $t$ that is always increasing. Thus the set of values of $y$ covered in the evolution until time $t$ is the hull $H_1 := y_0 \\sqcup \\tilde{A}(h)$:"
   ]
  },
  {
   "cell_type": "code",
   "execution_count": 77,
   "metadata": {
    "collapsed": false
   },
   "outputs": [
    {
     "data": {
      "text/plain": [
       "[1.0, 7.250000000000001]"
      ]
     },
     "execution_count": 77,
     "metadata": {},
     "output_type": "execute_result"
    }
   ],
   "source": [
    "H = y0 ⊔ Ã(h)"
   ]
  },
  {
   "cell_type": "markdown",
   "metadata": {},
   "source": [
    "An alternative point of view is to think of this as $y_0 + [0,h] \\times f(A)$, which gives the same result:"
   ]
  },
  {
   "cell_type": "code",
   "execution_count": 78,
   "metadata": {
    "collapsed": false
   },
   "outputs": [
    {
     "data": {
      "text/plain": [
       "[1.0, 7.250000000000001]"
      ]
     },
     "execution_count": 78,
     "metadata": {},
     "output_type": "execute_result"
    }
   ],
   "source": [
    "y0 + (0..h)*f(A)"
   ]
  },
  {
   "cell_type": "markdown",
   "metadata": {},
   "source": [
    "So we have the inclusion\n",
    "$y(t) \\in H_1$ for all $t \\in [0,h]$. We can now use this to reduce the estimation of the range of values of $y$ covered, to get a better Lipschitz constant:"
   ]
  },
  {
   "cell_type": "code",
   "execution_count": 79,
   "metadata": {
    "collapsed": false
   },
   "outputs": [
    {
     "data": {
      "text/plain": [
       "[1.0, 4.285156250000001]"
      ]
     },
     "execution_count": 79,
     "metadata": {},
     "output_type": "execute_result"
    }
   ],
   "source": [
    "H = y0 + (0..h)*f(H)"
   ]
  },
  {
   "cell_type": "markdown",
   "metadata": {},
   "source": [
    "And we can repeat:"
   ]
  },
  {
   "cell_type": "code",
   "execution_count": 80,
   "metadata": {
    "collapsed": false
   },
   "outputs": [
    {
     "data": {
      "text/plain": [
       "[1.0, 1.0717967697850093]"
      ]
     },
     "execution_count": 80,
     "metadata": {},
     "output_type": "execute_result"
    }
   ],
   "source": [
    "while true\n",
    "\n",
    "    H_new = y0 + (0..h)*f(H)\n",
    "    \n",
    "    if dist(H_new, H) < 1e-10\n",
    "        break\n",
    "    end\n",
    "\n",
    "    H = H_new\n",
    "end\n",
    "H"
   ]
  },
  {
   "cell_type": "markdown",
   "metadata": {},
   "source": [
    "This gives us the best enclosure possible for $y(h)$ with this method for the given step size $h$.\n",
    "\n",
    "We can now continue with more steps:"
   ]
  },
  {
   "cell_type": "code",
   "execution_count": 81,
   "metadata": {
    "collapsed": false
   },
   "outputs": [],
   "source": [
    "A = 0.5..1000\n",
    "\n",
    "y0 = @interval(1)\n",
    "y = y0\n",
    "\n",
    "h = 1\n",
    "t = 0.0\n",
    "\n",
    "while !(y + h*f(A) ⊆ A)\n",
    "    h /= 2\n",
    "end \n",
    "h /= 2\n",
    "\n",
    "ts = Float64[0.0]\n",
    "enclosures = Interval{Float64}[y0]\n",
    "\n",
    "while t < 0.8\n",
    "    \n",
    "    while !(y + h*f(A) ⊆ A)\n",
    "        h /= 2\n",
    "    end \n",
    "    \n",
    "    H = y + h*f(A)\n",
    "\n",
    "    while true\n",
    "\n",
    "        H_new = y + h*f(y ⊔ H)\n",
    "\n",
    "        if dist(H_new, H) < 1e-10\n",
    "            break\n",
    "        end\n",
    "\n",
    "        H = H_new\n",
    "    end\n",
    "    \n",
    "    t += h\n",
    "    # println(\"t=$t; h=$h;; enclosure=$H\")\n",
    "    \n",
    "    y = H\n",
    "    \n",
    "    push!(ts, t)\n",
    "    push!(enclosures, H)\n",
    "    \n",
    "end\n",
    ";\n",
    "    "
   ]
  },
  {
   "cell_type": "code",
   "execution_count": 61,
   "metadata": {
    "collapsed": false
   },
   "outputs": [
    {
     "data": {
      "text/plain": [
       "1640"
      ]
     },
     "execution_count": 61,
     "metadata": {},
     "output_type": "execute_result"
    }
   ],
   "source": [
    "length(enclosures)"
   ]
  },
  {
   "cell_type": "code",
   "execution_count": 13,
   "metadata": {
    "collapsed": false
   },
   "outputs": [
    {
     "name": "stderr",
     "output_type": "stream",
     "text": [
      "WARNING: could not import Base.help into PyCall\n"
     ]
    }
   ],
   "source": [
    "using PyPlot"
   ]
  },
  {
   "cell_type": "code",
   "execution_count": 68,
   "metadata": {
    "collapsed": false
   },
   "outputs": [
    {
     "data": {
      "image/png": "[encoded data removed]",
      "text/plain": [
       "PyPlot.Figure(PyObject <matplotlib.figure.Figure object at 0x324bf7c50>)"
      ]
     },
     "metadata": {},
     "output_type": "display_data"
    },
    {
     "data": {
      "text/plain": [
       "1-element Array{Any,1}:\n",
       " PyObject <matplotlib.lines.Line2D object at 0x326051890>"
      ]
     },
     "execution_count": 68,
     "metadata": {},
     "output_type": "execute_result"
    }
   ],
   "source": [
    "exact(t) = 1/(1-t)\n",
    "\n",
    "midpoints = map(mid, enclosures)\n",
    "radii = map(diam, enclosures) / 2\n",
    "\n",
    "# for (t, enclosure) in zip(ts, enclosures)\n",
    "#     plot([t,t], [enclosure.lo, enclosure.hi], \"b-\")\n",
    "# end\n",
    "\n",
    "errorbar(ts, midpoints, radii)\n",
    "\n",
    "plot(ts, map(exact, ts), \"g-\")"
   ]
  },
  {
   "cell_type": "code",
   "execution_count": 19,
   "metadata": {
    "collapsed": false
   },
   "outputs": [
    {
     "data": {
      "text/plain": [
       "0.00048828125"
      ]
     },
     "execution_count": 19,
     "metadata": {},
     "output_type": "execute_result"
    }
   ],
   "source": [
    "h"
   ]
  },
  {
   "cell_type": "code",
   "execution_count": 35,
   "metadata": {
    "collapsed": false
   },
   "outputs": [],
   "source": [
    "f(x) = -x\n",
    "\n",
    "A = -10..10\n",
    "\n",
    "y0 = @interval(1)\n",
    "y = y0\n",
    "\n",
    "h = 1\n",
    "t = 0.0\n",
    "\n",
    "while !(y + h*f(A) ⊆ A)\n",
    "    h /= 2\n",
    "end \n",
    "h /= 2^10\n",
    "\n",
    "ts = Float64[0.0]\n",
    "enclosures = Interval{Float64}[y0]\n",
    "\n",
    "while t < 7\n",
    "    \n",
    "    while !(y + h*f(A) ⊆ A)\n",
    "        h /= 2\n",
    "    end \n",
    "    \n",
    "    H = y + h*f(A)\n",
    "\n",
    "    while true\n",
    "\n",
    "        H_new = y + h*f(y ⊔ H)\n",
    "\n",
    "        if dist(H_new, H) < 1e-10\n",
    "            break\n",
    "        end\n",
    "\n",
    "        H = H_new\n",
    "    end\n",
    "    \n",
    "    t += h\n",
    "    #println(\"t=$t; h=$h; enclosure=$H\")\n",
    "    \n",
    "    y = H\n",
    "    \n",
    "    push!(ts, t)\n",
    "    push!(enclosures, H)\n",
    "    \n",
    "end\n",
    "    "
   ]
  },
  {
   "cell_type": "code",
   "execution_count": 36,
   "metadata": {
    "collapsed": false
   },
   "outputs": [
    {
     "data": {
      "image/png": "[encoded data removed]",
      "text/plain": [
       "PyPlot.Figure(PyObject <matplotlib.figure.Figure object at 0x323135d50>)"
      ]
     },
     "metadata": {},
     "output_type": "display_data"
    },
    {
     "data": {
      "text/plain": [
       "1-element Array{Any,1}:\n",
       " PyObject <matplotlib.lines.Line2D object at 0x324b2aa10>"
      ]
     },
     "execution_count": 36,
     "metadata": {},
     "output_type": "execute_result"
    }
   ],
   "source": [
    "exact(t) = exp(-t)\n",
    "\n",
    "midpoints = map(mid, enclosures)\n",
    "radii = map(diam, enclosures) / 2\n",
    "\n",
    "# for (t, enclosure) in zip(ts, enclosures)\n",
    "#     plot([t,t], [enclosure.lo, enclosure.hi], \"b-\")\n",
    "# end\n",
    "\n",
    "errorbar(ts, midpoints, radii)\n",
    "\n",
    "plot(ts, map(exact, ts), \"g-\")"
   ]
  },
  {
   "cell_type": "code",
   "execution_count": 38,
   "metadata": {
    "collapsed": false
   },
   "outputs": [
    {
     "data": {
      "text/plain": [
       "14337-element Array{Float64,1}:\n",
       " 0.0       \n",
       " 2.38419e-7\n",
       " 4.76837e-7\n",
       " 7.15256e-7\n",
       " 9.53675e-7\n",
       " 1.19209e-6\n",
       " 1.43051e-6\n",
       " 1.66893e-6\n",
       " 1.90735e-6\n",
       " 2.14577e-6\n",
       " 2.3842e-6 \n",
       " 2.62262e-6\n",
       " 2.86104e-6\n",
       " ⋮         \n",
       " 0.266428  \n",
       " 0.266558  \n",
       " 0.266688  \n",
       " 0.266819  \n",
       " 0.266949  \n",
       " 0.267079  \n",
       " 0.26721   \n",
       " 0.26734   \n",
       " 0.267471  \n",
       " 0.267602  \n",
       " 0.267732  \n",
       " 0.267863  "
      ]
     },
     "execution_count": 38,
     "metadata": {},
     "output_type": "execute_result"
    }
   ],
   "source": [
    "map(diam, enclosures)"
   ]
  },
  {
   "cell_type": "code",
   "execution_count": null,
   "metadata": {
    "collapsed": true
   },
   "outputs": [],
   "source": []
  }
 ],
 "metadata": {
  "kernelspec": {
   "display_name": "Julia 0.4.0-dev",
   "language": "julia",
   "name": "julia-0.4"
  },
  "language_info": {
   "file_extension": ".jl",
   "mimetype": "application/julia",
   "name": "julia",
   "version": "0.4.0"
  }
 },
 "nbformat": 4,
 "nbformat_minor": 0
}
