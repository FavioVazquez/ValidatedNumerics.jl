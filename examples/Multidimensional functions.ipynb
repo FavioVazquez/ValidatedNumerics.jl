{
 "cells": [
  {
   "cell_type": "code",
   "execution_count": null,
   "metadata": {
    "collapsed": true
   },
   "outputs": [],
   "source": [
    "type MultidimFunction\n",
    "    components::Vector{Function}\n",
    "end"
   ]
  },
  {
   "cell_type": "code",
   "execution_count": 9,
   "metadata": {
    "collapsed": false
   },
   "outputs": [
    {
     "ename": "LoadError",
     "evalue": "call not defined\nwhile loading In[9], in expression starting on line 3",
     "output_type": "error",
     "traceback": [
      "call not defined\nwhile loading In[9], in expression starting on line 3",
      ""
     ]
    }
   ],
   "source": [
    "Base.getindex(f::MultidimFunction, i::Integer) = f.components[i]\n",
    "\n",
    "Base.call(f::MultidimFunction, x) = [f_i(x) for f_i in f.components]"
   ]
  },
  {
   "cell_type": "code",
   "execution_count": 2,
   "metadata": {
    "collapsed": false
   },
   "outputs": [
    {
     "data": {
      "text/plain": [
       "MultidimFunction([(anonymous function),(anonymous function)])"
      ]
     },
     "execution_count": 2,
     "metadata": {},
     "output_type": "execute_result"
    }
   ],
   "source": [
    "g = MultidimFunction([x->x[1]+x[2], x->x[1]-x[2]])"
   ]
  },
  {
   "cell_type": "code",
   "execution_count": null,
   "metadata": {
    "collapsed": true
   },
   "outputs": [],
   "source": [
    "x = "
   ]
  },
  {
   "cell_type": "code",
   "execution_count": 5,
   "metadata": {
    "collapsed": false
   },
   "outputs": [
    {
     "data": {
      "text/plain": [
       "(5,1)"
      ]
     },
     "execution_count": 5,
     "metadata": {},
     "output_type": "execute_result"
    }
   ],
   "source": [
    "g[1]((3,2)), g[2]((3,2))"
   ]
  },
  {
   "cell_type": "code",
   "execution_count": 7,
   "metadata": {
    "collapsed": false
   },
   "outputs": [
    {
     "ename": "LoadError",
     "evalue": "type: apply: expected Function, got MultidimFunction\nwhile loading In[7], in expression starting on line 1",
     "output_type": "error",
     "traceback": [
      "type: apply: expected Function, got MultidimFunction\nwhile loading In[7], in expression starting on line 1",
      ""
     ]
    }
   ],
   "source": [
    "g((3,2))"
   ]
  },
  {
   "cell_type": "code",
   "execution_count": 8,
   "metadata": {
    "collapsed": false
   },
   "outputs": [
    {
     "data": {
      "text/html": [
       "1 method for generic function <b>call</b>:<ul><li> call(f::<b>MultidimFunction</b>,x) at In[6]:3</ul>"
      ],
      "text/plain": [
       "# 1 method for generic function \"call\":\n",
       "call(f::MultidimFunction,x) at In[6]:3"
      ]
     },
     "execution_count": 8,
     "metadata": {},
     "output_type": "execute_result"
    }
   ],
   "source": [
    "methods(call)"
   ]
  },
  {
   "cell_type": "code",
   "execution_count": null,
   "metadata": {
    "collapsed": true
   },
   "outputs": [],
   "source": []
  }
 ],
 "metadata": {
  "kernelspec": {
   "display_name": "Julia 0.3.11-pre",
   "language": "julia",
   "name": "julia-0.3"
  },
  "language_info": {
   "name": "julia",
   "version": "0.3.11"
  }
 },
 "nbformat": 4,
 "nbformat_minor": 0
}
